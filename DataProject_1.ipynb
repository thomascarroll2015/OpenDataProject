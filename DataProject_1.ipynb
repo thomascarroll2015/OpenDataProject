{
 "cells": [
  {
   "cell_type": "markdown",
   "metadata": {},
   "source": [
    "# Title\n",
    "\n",
    "this is where text can be presented\n",
    "\n",
    "For now, the dataset is "
   ]
  },
  {
   "cell_type": "code",
   "execution_count": null,
   "metadata": {},
   "outputs": [],
   "source": [
    "import matplotlib\n",
    "import matplotlib.pyplot as plt\n",
    "import numpy as np\n",
    "import pandas as pd\n",
    "import os\n",
    "pd.options.display.max_columns = None"
   ]
  },
  {
   "cell_type": "code",
   "execution_count": null,
   "metadata": {},
   "outputs": [],
   "source": [
    "%matplotlib inline\n",
    "plt.rcParams['figure.figsize'] = (20, 10)"
   ]
  },
  {
   "cell_type": "code",
   "execution_count": null,
   "metadata": {},
   "outputs": [],
   "source": [
    "saved_style_state = matplotlib.rcParams.copy() #give us a style state to go back to"
   ]
  },
  {
   "cell_type": "code",
   "execution_count": null,
   "metadata": {
    "tags": []
   },
   "outputs": [],
   "source": [
    "if os.path.isfile(\"Incident_by_NSW.csv\"):\n",
    "    filepath = \"Incident_by_NSW.csv\"\n",
    "    print(\"loading from file\")\n",
    "else:\n",
    "    print(\"no backup just yet\")\n",
    "\n",
    "nsw_incident = pd.read_csv(filepath)\n",
    "print(\"done\")"
   ]
  },
  {
   "cell_type": "code",
   "execution_count": null,
   "metadata": {},
   "outputs": [],
   "source": [
    "list(nsw_incident.iloc[1])"
   ]
  },
  {
   "cell_type": "code",
   "execution_count": null,
   "metadata": {},
   "outputs": [],
   "source": [
    "nsw_incident.head()"
   ]
  },
  {
   "cell_type": "code",
   "execution_count": null,
   "metadata": {},
   "outputs": [],
   "source": [
    "list(nsw_incident.columns)\n"
   ]
  },
  {
   "cell_type": "code",
   "execution_count": null,
   "metadata": {},
   "outputs": [],
   "source": [
    "Categ_test = nsw_incident[['State',\n",
    " 'Offence category',\n",
    " 'Subcategory',\n",
    " 'Jan 1995',\n",
    " 'Feb 1995',\n",
    " 'Mar 1995',\n",
    " 'Apr 1995',\n",
    " 'May 1995',\n",
    " 'Jun 1995',\n",
    " 'Jul 1995',\n",
    " 'Aug 1995',\n",
    " 'Sep 1995',\n",
    " 'Oct 1995',\n",
    " 'Nov 1995',\n",
    " 'Dec 1995',\n",
    " 'Jan 1996',\n",
    " 'Feb 1996',\n",
    " 'Mar 1996',\n",
    " 'Apr 1996',\n",
    " 'May 1996',\n",
    " 'Jun 1996',\n",
    " 'Jul 1996',\n",
    " 'Aug 1996',\n",
    " 'Sep 1996',\n",
    " 'Oct 1996',\n",
    " 'Nov 1996',\n",
    " 'Dec 1996',\n",
    " 'Jan 1997',\n",
    " 'Feb 1997',\n",
    " 'Mar 1997',\n",
    " 'Apr 1997',\n",
    " 'May 1997',\n",
    " 'Jun 1997',\n",
    " 'Jul 1997',\n",
    " 'Aug 1997',\n",
    " 'Sep 1997',\n",
    " 'Oct 1997',\n",
    " 'Nov 1997',\n",
    " 'Dec 1997',\n",
    " 'Jan 1998',\n",
    " 'Feb 1998',\n",
    " 'Mar 1998',\n",
    " 'Apr 1998',\n",
    " 'May 1998',\n",
    " 'Jun 1998',\n",
    " 'Jul 1998',\n",
    " 'Aug 1998',\n",
    " 'Sep 1998',\n",
    " 'Oct 1998',\n",
    " 'Nov 1998',\n",
    " 'Dec 1998',\n",
    " 'Jan 1999',\n",
    " 'Feb 1999',\n",
    " 'Mar 1999',\n",
    " 'Apr 1999',\n",
    " 'May 1999',\n",
    " 'Jun 1999',\n",
    " 'Jul 1999',\n",
    " 'Aug 1999',\n",
    " 'Sep 1999',\n",
    " 'Oct 1999',\n",
    " 'Nov 1999',\n",
    " 'Dec 1999',\n",
    " 'Jan 2000',\n",
    " 'Feb 2000',\n",
    " 'Mar 2000',\n",
    " 'Apr 2000',\n",
    " 'May 2000',\n",
    " 'Jun 2000',\n",
    " 'Jul 2000',\n",
    " 'Aug 2000',\n",
    " 'Sep 2000',\n",
    " 'Oct 2000',\n",
    " 'Nov 2000',\n",
    " 'Dec 2000',\n",
    " 'Jan 2001',\n",
    " 'Feb 2001',\n",
    " 'Mar 2001',\n",
    " 'Apr 2001',\n",
    " 'May 2001',\n",
    " 'Jun 2001',\n",
    " 'Jul 2001',\n",
    " 'Aug 2001',\n",
    " 'Sep 2001',\n",
    " 'Oct 2001',\n",
    " 'Nov 2001',\n",
    " 'Dec 2001',\n",
    " 'Jan 2002',\n",
    " 'Feb 2002',\n",
    " 'Mar 2002',\n",
    " 'Apr 2002',\n",
    " 'May 2002',\n",
    " 'Jun 2002',\n",
    " 'Jul 2002',\n",
    " 'Aug 2002',\n",
    " 'Sep 2002',\n",
    " 'Oct 2002',\n",
    " 'Nov 2002',\n",
    " 'Dec 2002',\n",
    " 'Jan 2003',\n",
    " 'Feb 2003',\n",
    " 'Mar 2003',\n",
    " 'Apr 2003',\n",
    " 'May 2003',\n",
    " 'Jun 2003',\n",
    " 'Jul 2003',\n",
    " 'Aug 2003',\n",
    " 'Sep 2003',\n",
    " 'Oct 2003',\n",
    " 'Nov 2003',\n",
    " 'Dec 2003',\n",
    " 'Jan 2004',\n",
    " 'Feb 2004',\n",
    " 'Mar 2004',\n",
    " 'Apr 2004',\n",
    " 'May 2004',\n",
    " 'Jun 2004',\n",
    " 'Jul 2004',\n",
    " 'Aug 2004',\n",
    " 'Sep 2004',\n",
    " 'Oct 2004',\n",
    " 'Nov 2004',\n",
    " 'Dec 2004',\n",
    " 'Jan 2005',\n",
    " 'Feb 2005',\n",
    " 'Mar 2005',\n",
    " 'Apr 2005',\n",
    " 'May 2005',\n",
    " 'Jun 2005',\n",
    " 'Jul 2005',\n",
    " 'Aug 2005',\n",
    " 'Sep 2005',\n",
    " 'Oct 2005',\n",
    " 'Nov 2005',\n",
    " 'Dec 2005',\n",
    " 'Jan 2006',\n",
    " 'Feb 2006',\n",
    " 'Mar 2006',\n",
    " 'Apr 2006',\n",
    " 'May 2006',\n",
    " 'Jun 2006',\n",
    " 'Jul 2006',\n",
    " 'Aug 2006',\n",
    " 'Sep 2006',\n",
    " 'Oct 2006',\n",
    " 'Nov 2006',\n",
    " 'Dec 2006',\n",
    " 'Jan 2007',\n",
    " 'Feb 2007',\n",
    " 'Mar 2007',\n",
    " 'Apr 2007',\n",
    " 'May 2007',\n",
    " 'Jun 2007',\n",
    " 'Jul 2007',\n",
    " 'Aug 2007',\n",
    " 'Sep 2007',\n",
    " 'Oct 2007',\n",
    " 'Nov 2007',\n",
    " 'Dec 2007',\n",
    " 'Jan 2008',\n",
    " 'Feb 2008',\n",
    " 'Mar 2008',\n",
    " 'Apr 2008',\n",
    " 'May 2008',\n",
    " 'Jun 2008',\n",
    " 'Jul 2008',\n",
    " 'Aug 2008',\n",
    " 'Sep 2008',\n",
    " 'Oct 2008',\n",
    " 'Nov 2008',\n",
    " 'Dec 2008',\n",
    " 'Jan 2009',\n",
    " 'Feb 2009',\n",
    " 'Mar 2009',\n",
    " 'Apr 2009',\n",
    " 'May 2009',\n",
    " 'Jun 2009',\n",
    " 'Jul 2009',\n",
    " 'Aug 2009',\n",
    " 'Sep 2009',\n",
    " 'Oct 2009',\n",
    " 'Nov 2009',\n",
    " 'Dec 2009',\n",
    " 'Jan 2010',\n",
    " 'Feb 2010',\n",
    " 'Mar 2010',\n",
    " 'Apr 2010',\n",
    " 'May 2010',\n",
    " 'Jun 2010',\n",
    " 'Jul 2010',\n",
    " 'Aug 2010',\n",
    " 'Sep 2010',\n",
    " 'Oct 2010',\n",
    " 'Nov 2010',\n",
    " 'Dec 2010',\n",
    " 'Jan 2011',\n",
    " 'Feb 2011',\n",
    " 'Mar 2011',\n",
    " 'Apr 2011',\n",
    " 'May 2011',\n",
    " 'Jun 2011',\n",
    " 'Jul 2011',\n",
    " 'Aug 2011',\n",
    " 'Sep 2011',\n",
    " 'Oct 2011',\n",
    " 'Nov 2011',\n",
    " 'Dec 2011',\n",
    " 'Jan 2012',\n",
    " 'Feb 2012',\n",
    " 'Mar 2012',\n",
    " 'Apr 2012',\n",
    " 'May 2012',\n",
    " 'Jun 2012',\n",
    " 'Jul 2012',\n",
    " 'Aug 2012',\n",
    " 'Sep 2012',\n",
    " 'Oct 2012',\n",
    " 'Nov 2012',\n",
    " 'Dec 2012',\n",
    " 'Jan 2013',\n",
    " 'Feb 2013',\n",
    " 'Mar 2013',\n",
    " 'Apr 2013',\n",
    " 'May 2013',\n",
    " 'Jun 2013',\n",
    " 'Jul 2013',\n",
    " 'Aug 2013',\n",
    " 'Sep 2013',\n",
    " 'Oct 2013',\n",
    " 'Nov 2013',\n",
    " 'Dec 2013',\n",
    " 'Jan 2014',\n",
    " 'Feb 2014',\n",
    " 'Mar 2014',\n",
    " 'Apr 2014',\n",
    " 'May 2014',\n",
    " 'Jun 2014',\n",
    " 'Jul 2014',\n",
    " 'Aug 2014',\n",
    " 'Sep 2014',\n",
    " 'Oct 2014',\n",
    " 'Nov 2014',\n",
    " 'Dec 2014',\n",
    " 'Jan 2015',\n",
    " 'Feb 2015',\n",
    " 'Mar 2015',\n",
    " 'Apr 2015',\n",
    " 'May 2015',\n",
    " 'Jun 2015',\n",
    " 'Jul 2015',\n",
    " 'Aug 2015',\n",
    " 'Sep 2015',\n",
    " 'Oct 2015',\n",
    " 'Nov 2015',\n",
    " 'Dec 2015',\n",
    " 'Jan 2016',\n",
    " 'Feb 2016',\n",
    " 'Mar 2016',\n",
    " 'Apr 2016',\n",
    " 'May 2016',\n",
    " 'Jun 2016',\n",
    " 'Jul 2016',\n",
    " 'Aug 2016',\n",
    " 'Sep 2016',\n",
    " 'Oct 2016',\n",
    " 'Nov 2016',\n",
    " 'Dec 2016',\n",
    " 'Jan 2017',\n",
    " 'Feb 2017',\n",
    " 'Mar 2017',\n",
    " 'Apr 2017',\n",
    " 'May 2017',\n",
    " 'Jun 2017',\n",
    " 'Jul 2017',\n",
    " 'Aug 2017',\n",
    " 'Sep 2017',\n",
    " 'Oct 2017',\n",
    " 'Nov 2017',\n",
    " 'Dec 2017',\n",
    " 'Jan 2018',\n",
    " 'Feb 2018',\n",
    " 'Mar 2018',\n",
    " 'Apr 2018',\n",
    " 'May 2018',\n",
    " 'Jun 2018',\n",
    " 'Jul 2018',\n",
    " 'Aug 2018',\n",
    " 'Sep 2018',\n",
    " 'Oct 2018',\n",
    " 'Nov 2018',\n",
    " 'Dec 2018',\n",
    " 'Jan 2019',\n",
    " 'Feb 2019',\n",
    " 'Mar 2019',\n",
    " 'Apr 2019',\n",
    " 'May 2019',\n",
    " 'Jun 2019',\n",
    " 'Jul 2019',\n",
    " 'Aug 2019',\n",
    " 'Sep 2019',\n",
    " 'Oct 2019',\n",
    " 'Nov 2019',\n",
    " 'Dec 2019',\n",
    " 'Jan 2020',\n",
    " 'Feb 2020',\n",
    " 'Mar 2020',]]"
   ]
  },
  {
   "cell_type": "code",
   "execution_count": null,
   "metadata": {},
   "outputs": [],
   "source": [
    "SummedCrimebyCat = Categ_test.groupby(\"Offence category\").sum()\n",
    "\n"
   ]
  },
  {
   "cell_type": "code",
   "execution_count": null,
   "metadata": {},
   "outputs": [],
   "source": [
    "SummedCrimebyCat = Categ_test.groupby(\"Offence category\").sum()"
   ]
  },
  {
   "cell_type": "code",
   "execution_count": null,
   "metadata": {},
   "outputs": [],
   "source": [
    "Categ_test.groupby(\"Subcategory\").sum()"
   ]
  },
  {
   "cell_type": "code",
   "execution_count": null,
   "metadata": {},
   "outputs": [],
   "source": [
    "Categ_test2 = Categ_test.groupby(\"Subcategory\").sum()\n",
    "Categ_test2.columns[0:11]"
   ]
  },
  {
   "cell_type": "code",
   "execution_count": null,
   "metadata": {},
   "outputs": [],
   "source": [
    "Categ_test.groupby(\"Subcategory\").sum().transpose()[['Domestic violence related assault' , 'Non-domestic violence related assault' , 'Indecent assault, act of indecency and other sexual offences' , 'Sexual assault']].plot()"
   ]
  },
  {
   "cell_type": "code",
   "execution_count": null,
   "metadata": {},
   "outputs": [],
   "source": [
    "Categ_test.groupby(\"Offence category\").sum().transpose().plot()"
   ]
  },
  {
   "cell_type": "code",
   "execution_count": null,
   "metadata": {},
   "outputs": [],
   "source": [
    "Categ_test.groupby(\"Offence category\").sum().transpose()[['Drug offences' , 'Robbery' , 'Theft' , 'Against justice procedures']].plot()"
   ]
  },
  {
   "cell_type": "code",
   "execution_count": null,
   "metadata": {},
   "outputs": [],
   "source": [
    "Categ_test.groupby(\"Offence category\").sum().transpose()[['Homicide']].plot()"
   ]
  },
  {
   "cell_type": "code",
   "execution_count": null,
   "metadata": {},
   "outputs": [],
   "source": [
    "Categ_test.groupby(\"Offence category\").sum().transpose().plot()"
   ]
  },
  {
   "cell_type": "code",
   "execution_count": null,
   "metadata": {},
   "outputs": [],
   "source": [
    "Categ_test.groupby(\"Subcategory\").sum().transpose().plot()"
   ]
  },
  {
   "cell_type": "code",
   "execution_count": null,
   "metadata": {
    "tags": []
   },
   "outputs": [],
   "source": [
    "print(nsw_incident.columns)"
   ]
  },
  {
   "cell_type": "code",
   "execution_count": null,
   "metadata": {},
   "outputs": [],
   "source": [
    "nsw_incident.head()"
   ]
  },
  {
   "cell_type": "code",
   "execution_count": null,
   "metadata": {},
   "outputs": [],
   "source": [
    "Categ_test.groupby(\"Subcategory\").sum()"
   ]
  },
  {
   "cell_type": "code",
   "execution_count": null,
   "metadata": {
    "tags": []
   },
   "outputs": [],
   "source": [
    "print(nsw_incident['Subcategory'][2])"
   ]
  },
  {
   "cell_type": "code",
   "execution_count": null,
   "metadata": {
    "tags": []
   },
   "outputs": [],
   "source": [
    "print(nsw_incident.Subcategory)"
   ]
  },
  {
   "cell_type": "code",
   "execution_count": null,
   "metadata": {
    "tags": []
   },
   "outputs": [],
   "source": [
    "list(nsw_incident['Subcategory'])"
   ]
  },
  {
   "cell_type": "code",
   "execution_count": null,
   "metadata": {
    "tags": []
   },
   "outputs": [],
   "source": [
    "print(nsw_incident['Offence category'])"
   ]
  },
  {
   "cell_type": "code",
   "execution_count": null,
   "metadata": {},
   "outputs": [],
   "source": [
    "Nineties = nsw_incident[['State',\n",
    " 'Offence category',\n",
    " 'Subcategory',\n",
    " 'Jan 1995',\n",
    " 'Feb 1995',\n",
    " 'Mar 1995',\n",
    " 'Apr 1995',\n",
    " 'May 1995',\n",
    " 'Jun 1995',\n",
    " 'Jul 1995',\n",
    " 'Aug 1995',\n",
    " 'Sep 1995',\n",
    " 'Oct 1995',\n",
    " 'Nov 1995',\n",
    " 'Dec 1995',\n",
    " 'Jan 1996',\n",
    " 'Feb 1996',\n",
    " 'Mar 1996',\n",
    " 'Apr 1996',\n",
    " 'May 1996',\n",
    " 'Jun 1996',\n",
    " 'Jul 1996',\n",
    " 'Aug 1996',\n",
    " 'Sep 1996',\n",
    " 'Oct 1996',\n",
    " 'Nov 1996',\n",
    " 'Dec 1996',\n",
    " 'Jan 1997',\n",
    " 'Feb 1997',\n",
    " 'Mar 1997',\n",
    " 'Apr 1997',\n",
    " 'May 1997',\n",
    " 'Jun 1997',\n",
    " 'Jul 1997',\n",
    " 'Aug 1997',\n",
    " 'Sep 1997',\n",
    " 'Oct 1997',\n",
    " 'Nov 1997',\n",
    " 'Dec 1997',\n",
    " 'Jan 1998',\n",
    " 'Feb 1998',\n",
    " 'Mar 1998',\n",
    " 'Apr 1998',\n",
    " 'May 1998',\n",
    " 'Jun 1998',\n",
    " 'Jul 1998',\n",
    " 'Aug 1998',\n",
    " 'Sep 1998',\n",
    " 'Oct 1998',\n",
    " 'Nov 1998',\n",
    " 'Dec 1998',\n",
    " 'Jan 1999',\n",
    " 'Feb 1999',\n",
    " 'Mar 1999',\n",
    " 'Apr 1999',\n",
    " 'May 1999',\n",
    " 'Jun 1999',\n",
    " 'Jul 1999',\n",
    " 'Aug 1999',\n",
    " 'Sep 1999',\n",
    " 'Oct 1999',\n",
    " 'Nov 1999',\n",
    " 'Dec 1999',]]"
   ]
  },
  {
   "cell_type": "code",
   "execution_count": null,
   "metadata": {},
   "outputs": [],
   "source": [
    "Nineties.groupby(\"Subcategory\").sum()"
   ]
  },
  {
   "cell_type": "code",
   "execution_count": null,
   "metadata": {},
   "outputs": [],
   "source": [
    "Nineties.groupby(\"Subcategory\").sum().transpose()[['Domestic violence related assault' , 'Non-domestic violence related assault' , 'Indecent assault, act of indecency and other sexual offences' , 'Sexual assault']].plot()"
   ]
  },
  {
   "cell_type": "code",
   "execution_count": null,
   "metadata": {},
   "outputs": [],
   "source": [
    "NinetySevenYR = nsw_incident[[\n",
    "'Offence category',\n",
    " 'Subcategory',\n",
    " 'Jan 1997',\n",
    " 'Feb 1997',\n",
    " 'Mar 1997',\n",
    " 'Apr 1997',\n",
    " 'May 1997',\n",
    " 'Jun 1997',\n",
    " 'Jul 1997',\n",
    " 'Aug 1997',\n",
    " 'Sep 1997',\n",
    " 'Oct 1997',\n",
    " 'Nov 1997',\n",
    " 'Dec 1997',]]"
   ]
  },
  {
   "cell_type": "code",
   "execution_count": null,
   "metadata": {},
   "outputs": [],
   "source": [
    "NinetySevenYR.groupby(\"Subcategory\").sum().transpose()[['Domestic violence related assault' , 'Non-domestic violence related assault' , 'Indecent assault, act of indecency and other sexual offences' , 'Sexual assault']].plot()"
   ]
  },
  {
   "cell_type": "code",
   "execution_count": null,
   "metadata": {},
   "outputs": [],
   "source": []
  }
 ],
 "metadata": {
  "language_info": {
   "codemirror_mode": {
    "name": "ipython",
    "version": 3
   },
   "file_extension": ".py",
   "mimetype": "text/x-python",
   "name": "python",
   "nbconvert_exporter": "python",
   "pygments_lexer": "ipython3",
   "version": "3.7.6-final"
  },
  "orig_nbformat": 2,
  "kernelspec": {
   "name": "python3",
   "display_name": "Python 3"
  }
 },
 "nbformat": 4,
 "nbformat_minor": 2
}